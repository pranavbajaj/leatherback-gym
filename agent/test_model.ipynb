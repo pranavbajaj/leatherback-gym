{
 "cells": [
  {
   "cell_type": "code",
   "execution_count": 91,
   "id": "115b6425",
   "metadata": {},
   "outputs": [],
   "source": [
    "import torch\n",
    "import numpy \n",
    "from torchvision.io import read_image, ImageReadMode\n",
    "from drive_agent import *\n",
    "device = torch.device(\"cuda\" if torch.cuda.is_available() else \"cpu\")"
   ]
  },
  {
   "cell_type": "code",
   "execution_count": 2,
   "id": "cb7aa6b6",
   "metadata": {},
   "outputs": [],
   "source": [
    "agenetNetwork = AgentNNetwork()"
   ]
  },
  {
   "cell_type": "code",
   "execution_count": 3,
   "id": "5f306ef1",
   "metadata": {},
   "outputs": [],
   "source": [
    "img = torch.ones([4,3,240,320])\n",
    "s = torch.rand((4,1))\n",
    "v = torch.rand((4,2))"
   ]
  },
  {
   "cell_type": "code",
   "execution_count": 5,
   "id": "01d4d4e7",
   "metadata": {},
   "outputs": [],
   "source": [
    "action = agenetNetwork(img, s, v)"
   ]
  },
  {
   "cell_type": "code",
   "execution_count": 6,
   "id": "21e906da",
   "metadata": {},
   "outputs": [
    {
     "data": {
      "text/plain": [
       "tensor([[0.4786, 0.4607],\n",
       "        [0.4785, 0.4609],\n",
       "        [0.4786, 0.4609],\n",
       "        [0.4784, 0.4610]], grad_fn=<SigmoidBackward0>)"
      ]
     },
     "execution_count": 6,
     "metadata": {},
     "output_type": "execute_result"
    }
   ],
   "source": [
    "action"
   ]
  },
  {
   "cell_type": "code",
   "execution_count": 6,
   "id": "d4b7ddf4",
   "metadata": {},
   "outputs": [
    {
     "name": "stdout",
     "output_type": "stream",
     "text": [
      "NO. 0 resnet.conv1.weight\n",
      "NO. 1 resnet.bn1.weight\n",
      "NO. 2 resnet.bn1.bias\n",
      "NO. 3 resnet.layer1.0.conv1.weight\n",
      "NO. 4 resnet.layer1.0.bn1.weight\n",
      "NO. 5 resnet.layer1.0.bn1.bias\n",
      "NO. 6 resnet.layer1.0.conv2.weight\n",
      "NO. 7 resnet.layer1.0.bn2.weight\n",
      "NO. 8 resnet.layer1.0.bn2.bias\n",
      "NO. 9 resnet.layer1.1.conv1.weight\n",
      "NO. 10 resnet.layer1.1.bn1.weight\n",
      "NO. 11 resnet.layer1.1.bn1.bias\n",
      "NO. 12 resnet.layer1.1.conv2.weight\n",
      "NO. 13 resnet.layer1.1.bn2.weight\n",
      "NO. 14 resnet.layer1.1.bn2.bias\n",
      "NO. 15 resnet.layer2.0.conv1.weight\n",
      "NO. 16 resnet.layer2.0.bn1.weight\n",
      "NO. 17 resnet.layer2.0.bn1.bias\n",
      "NO. 18 resnet.layer2.0.conv2.weight\n",
      "NO. 19 resnet.layer2.0.bn2.weight\n",
      "NO. 20 resnet.layer2.0.bn2.bias\n",
      "NO. 21 resnet.layer2.0.downsample.0.weight\n",
      "NO. 22 resnet.layer2.0.downsample.1.weight\n",
      "NO. 23 resnet.layer2.0.downsample.1.bias\n",
      "NO. 24 resnet.layer2.1.conv1.weight\n",
      "NO. 25 resnet.layer2.1.bn1.weight\n",
      "NO. 26 resnet.layer2.1.bn1.bias\n",
      "NO. 27 resnet.layer2.1.conv2.weight\n",
      "NO. 28 resnet.layer2.1.bn2.weight\n",
      "NO. 29 resnet.layer2.1.bn2.bias\n",
      "NO. 30 resnet.layer3.0.conv1.weight\n",
      "NO. 31 resnet.layer3.0.bn1.weight\n",
      "NO. 32 resnet.layer3.0.bn1.bias\n",
      "NO. 33 resnet.layer3.0.conv2.weight\n",
      "NO. 34 resnet.layer3.0.bn2.weight\n",
      "NO. 35 resnet.layer3.0.bn2.bias\n",
      "NO. 36 resnet.layer3.0.downsample.0.weight\n",
      "NO. 37 resnet.layer3.0.downsample.1.weight\n",
      "NO. 38 resnet.layer3.0.downsample.1.bias\n",
      "NO. 39 resnet.layer3.1.conv1.weight\n",
      "NO. 40 resnet.layer3.1.bn1.weight\n",
      "NO. 41 resnet.layer3.1.bn1.bias\n",
      "NO. 42 resnet.layer3.1.conv2.weight\n",
      "NO. 43 resnet.layer3.1.bn2.weight\n",
      "NO. 44 resnet.layer3.1.bn2.bias\n",
      "NO. 45 resnet.layer4.0.conv1.weight\n",
      "NO. 46 resnet.layer4.0.bn1.weight\n",
      "NO. 47 resnet.layer4.0.bn1.bias\n",
      "NO. 48 resnet.layer4.0.conv2.weight\n",
      "NO. 49 resnet.layer4.0.bn2.weight\n",
      "NO. 50 resnet.layer4.0.bn2.bias\n",
      "NO. 51 resnet.layer4.0.downsample.0.weight\n",
      "NO. 52 resnet.layer4.0.downsample.1.weight\n",
      "NO. 53 resnet.layer4.0.downsample.1.bias\n",
      "NO. 54 resnet.layer4.1.conv1.weight\n",
      "NO. 55 resnet.layer4.1.bn1.weight\n",
      "NO. 56 resnet.layer4.1.bn1.bias\n",
      "NO. 57 resnet.layer4.1.conv2.weight\n",
      "NO. 58 resnet.layer4.1.bn2.weight\n",
      "NO. 59 resnet.layer4.1.bn2.bias\n",
      "NO. 60 resnet.fc.weight\n",
      "NO. 61 resnet.fc.bias\n"
     ]
    }
   ],
   "source": [
    "i = 0\n",
    "for name, param in p_encoder.named_parameters():\n",
    "    if param.requires_grad == True:\n",
    "        print(\"NO.\", i, name)\n",
    "        i += 1"
   ]
  },
  {
   "cell_type": "code",
   "execution_count": null,
   "id": "ea4473f8",
   "metadata": {},
   "outputs": [],
   "source": [
    "a = torch.randint(0,9,(5,10))\n",
    "b = torch.randint(0,9,(5,5))"
   ]
  },
  {
   "cell_type": "code",
   "execution_count": 12,
   "id": "b1ee62c6",
   "metadata": {},
   "outputs": [],
   "source": [
    "c = torch.cat((a,b), dim = 1)"
   ]
  },
  {
   "cell_type": "code",
   "execution_count": 75,
   "id": "eed8db7f",
   "metadata": {},
   "outputs": [],
   "source": [
    "gamma = 1.0\n",
    "def compute_return(rewards): \n",
    "    Returns = [0]\n",
    "    for i in range(len(rewards)-1, -1, -1): \n",
    "        print(rewards[i] + gamma * Returns[-1])\n",
    "        Returns.append(rewards[i] + gamma * Returns[-1])\n",
    "    Returns.reverse()\n",
    "    return Returns[:-1]"
   ]
  },
  {
   "cell_type": "code",
   "execution_count": 80,
   "id": "ada139cb",
   "metadata": {},
   "outputs": [],
   "source": [
    "N = 5\n",
    "rewards = [i for i in range(1, N+1)]"
   ]
  },
  {
   "cell_type": "code",
   "execution_count": 81,
   "id": "bd087f4b",
   "metadata": {},
   "outputs": [
    {
     "data": {
      "text/plain": [
       "[1, 2, 3, 4, 5]"
      ]
     },
     "execution_count": 81,
     "metadata": {},
     "output_type": "execute_result"
    }
   ],
   "source": [
    "rewards"
   ]
  },
  {
   "cell_type": "code",
   "execution_count": 82,
   "id": "bf740fc7",
   "metadata": {},
   "outputs": [
    {
     "name": "stdout",
     "output_type": "stream",
     "text": [
      "5.0\n",
      "9.0\n",
      "12.0\n",
      "14.0\n",
      "15.0\n"
     ]
    },
    {
     "data": {
      "text/plain": [
       "[15.0, 14.0, 12.0, 9.0, 5.0]"
      ]
     },
     "execution_count": 82,
     "metadata": {},
     "output_type": "execute_result"
    }
   ],
   "source": [
    "compute_return(rewards)"
   ]
  },
  {
   "cell_type": "code",
   "execution_count": 73,
   "id": "4a1f1c24",
   "metadata": {},
   "outputs": [],
   "source": [
    "a "
   ]
  },
  {
   "cell_type": "code",
   "execution_count": 85,
   "id": "71c1bd5e",
   "metadata": {},
   "outputs": [],
   "source": [
    "env_state = [True, False, True, False, False] "
   ]
  },
  {
   "cell_type": "code",
   "execution_count": null,
   "id": "a8efa484",
   "metadata": {},
   "outputs": [],
   "source": [
    "ids = torch.tensor([i for i in range(len(env_state)) if env_state[i]]).to(device)"
   ]
  },
  {
   "cell_type": "code",
   "execution_count": 93,
   "id": "d57cda3d",
   "metadata": {},
   "outputs": [
    {
     "data": {
      "text/plain": [
       "tensor([0, 2])"
      ]
     },
     "execution_count": 93,
     "metadata": {},
     "output_type": "execute_result"
    }
   ],
   "source": [
    "ids"
   ]
  },
  {
   "cell_type": "code",
   "execution_count": null,
   "id": "9782bee6",
   "metadata": {},
   "outputs": [
    {
     "ename": "RuntimeError",
     "evalue": "Boolean value of Tensor with more than one value is ambiguous",
     "output_type": "error",
     "traceback": [
      "\u001b[31m---------------------------------------------------------------------------\u001b[39m",
      "\u001b[31mRuntimeError\u001b[39m                              Traceback (most recent call last)",
      "\u001b[36mCell\u001b[39m\u001b[36m \u001b[39m\u001b[32mIn[94]\u001b[39m\u001b[32m, line 1\u001b[39m\n\u001b[32m----> \u001b[39m\u001b[32m1\u001b[39m \u001b[38;5;28;01mif\u001b[39;00m ids:\n\u001b[32m      2\u001b[39m     \u001b[38;5;28mprint\u001b[39m(\u001b[33m\"\u001b[39m\u001b[33mYes\u001b[39m\u001b[33m\"\u001b[39m)\n",
      "\u001b[31mRuntimeError\u001b[39m: Boolean value of Tensor with more than one value is ambiguous"
     ]
    }
   ],
   "source": [
    "if ids.isEmpty():\n",
    "    print(\"Yes\")"
   ]
  },
  {
   "cell_type": "code",
   "execution_count": 95,
   "id": "190be85b",
   "metadata": {},
   "outputs": [],
   "source": [
    "v = [[1,2,3], [4], [7,2]]"
   ]
  },
  {
   "cell_type": "code",
   "execution_count": 97,
   "id": "68c90046",
   "metadata": {},
   "outputs": [],
   "source": [
    "v[1] = []"
   ]
  },
  {
   "cell_type": "code",
   "execution_count": 98,
   "id": "e3f153dd",
   "metadata": {},
   "outputs": [
    {
     "data": {
      "text/plain": [
       "[[1, 2, 3], [], [7, 2]]"
      ]
     },
     "execution_count": 98,
     "metadata": {},
     "output_type": "execute_result"
    }
   ],
   "source": [
    "v"
   ]
  },
  {
   "cell_type": "code",
   "execution_count": 115,
   "id": "ab75a816",
   "metadata": {},
   "outputs": [],
   "source": [
    "u = torch.tensor([0 for _ in range(5)]).to(device).reshape(5,1)\n",
    "v = torch.tensor([5 for _ in range(5)]).to(device).reshape(5,1)"
   ]
  },
  {
   "cell_type": "code",
   "execution_count": 131,
   "id": "fcbda7af",
   "metadata": {},
   "outputs": [
    {
     "name": "stdout",
     "output_type": "stream",
     "text": [
      "tensor([[0, 5, 5, 5, 5, 5, 5, 5, 5, 5, 5, 5, 5],\n",
      "        [0, 5, 5, 5, 5, 5, 5, 5, 5, 5, 5, 5, 5],\n",
      "        [0, 5, 5, 5, 5, 5, 5, 5, 5, 5, 5, 5, 5],\n",
      "        [0, 5, 5, 5, 5, 5, 5, 5, 5, 5, 5, 5, 5],\n",
      "        [0, 5, 5, 5, 5, 5, 5, 5, 5, 5, 5, 5, 5]], device='cuda:0')\n"
     ]
    }
   ],
   "source": [
    "u = torch.cat([u,v], dim = 1)\n",
    "print(u)"
   ]
  },
  {
   "cell_type": "code",
   "execution_count": null,
   "id": "4ac30d24",
   "metadata": {},
   "outputs": [
    {
     "ename": "TypeError",
     "evalue": "'module' object is not callable",
     "output_type": "error",
     "traceback": [
      "\u001b[31m---------------------------------------------------------------------------\u001b[39m",
      "\u001b[31mTypeError\u001b[39m                                 Traceback (most recent call last)",
      "\u001b[36mCell\u001b[39m\u001b[36m \u001b[39m\u001b[32mIn[133]\u001b[39m\u001b[32m, line 1\u001b[39m\n\u001b[32m----> \u001b[39m\u001b[32m1\u001b[39m u[\u001b[32m4\u001b[39m] = \u001b[43mtorch\u001b[49m\u001b[43m.\u001b[49m\u001b[43mtorch\u001b[49m\u001b[43m(\u001b[49m\u001b[43m[\u001b[49m\u001b[32;43m0\u001b[39;49m\u001b[43m]\u001b[49m\u001b[43m)\u001b[49m.to(device)\n",
      "\u001b[31mTypeError\u001b[39m: 'module' object is not callable"
     ]
    }
   ],
   "source": [
    "u[4] = torch.tensor([0]).to(device)"
   ]
  },
  {
   "cell_type": "code",
   "execution_count": 134,
   "id": "19fe3bd5",
   "metadata": {},
   "outputs": [
    {
     "data": {
      "text/plain": [
       "tensor([0, 5, 5, 5, 5, 5, 5, 5, 5, 5, 5, 5, 5], device='cuda:0')"
      ]
     },
     "execution_count": 134,
     "metadata": {},
     "output_type": "execute_result"
    }
   ],
   "source": [
    "u[4]"
   ]
  },
  {
   "cell_type": "code",
   "execution_count": null,
   "id": "d21afd6a",
   "metadata": {},
   "outputs": [],
   "source": []
  }
 ],
 "metadata": {
  "kernelspec": {
   "display_name": "env_isaaclab",
   "language": "python",
   "name": "python3"
  },
  "language_info": {
   "codemirror_mode": {
    "name": "ipython",
    "version": 3
   },
   "file_extension": ".py",
   "mimetype": "text/x-python",
   "name": "python",
   "nbconvert_exporter": "python",
   "pygments_lexer": "ipython3",
   "version": "3.11.13"
  }
 },
 "nbformat": 4,
 "nbformat_minor": 5
}
